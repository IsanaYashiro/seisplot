{
 "cells": [
  {
   "cell_type": "markdown",
   "metadata": {},
   "source": [
    "# Polygon around data area\n",
    "\n",
    "Related to the [Create a polygon with real data extents](https://github.com/agile-geoscience/seisplot/issues/27) issue.\n",
    "\n",
    "Plan:\n",
    "\n",
    "1. Make some data.\n",
    "2. Condition the data into a binary cube.\n",
    "3. Make a contour around the data area.\n",
    "\n",
    "## Make some data with lots of nulls"
   ]
  },
  {
   "cell_type": "code",
   "execution_count": 111,
   "metadata": {
    "collapsed": false
   },
   "outputs": [],
   "source": [
    "import numpy as np\n",
    "import matplotlib.pyplot as plt\n",
    "%matplotlib inline\n",
    "\n",
    "import scipy.stats"
   ]
  },
  {
   "cell_type": "code",
   "execution_count": 112,
   "metadata": {
    "collapsed": true
   },
   "outputs": [],
   "source": [
    "import os\n",
    "\n",
    "target = 'data/seismic_data.sgy'\n",
    "\n",
    "outs = [\n",
    "    'this/that/other.png',\n",
    "    '/this/that/other.png',\n",
    "    'this/that',\n",
    "    'this/',\n",
    "    '/this/that',\n",
    "    '../other.png',\n",
    "    'other.png',\n",
    "    '',\n",
    "    ]"
   ]
  },
  {
   "cell_type": "code",
   "execution_count": 113,
   "metadata": {
    "collapsed": false
   },
   "outputs": [
    {
     "name": "stdout",
     "output_type": "stream",
     "text": [
      "this/that/other.png\n",
      "/this/that/other.png\n",
      "this/that/seismic_data.png\n",
      "this/seismic_data.png\n",
      "/this/that/seismic_data.png\n",
      "../other.png\n",
      "other.png\n",
      "data/seismic_data.png\n"
     ]
    }
   ],
   "source": [
    "dname, fname, ext = path_bits(target)\n",
    "def get_outfile(out):\n",
    "    outfile = out or ''\n",
    "    if not os.path.splitext(outfile)[1]:\n",
    "        outfile = os.path.join(out or dname, fname + '.png')\n",
    "    return outfile\n",
    "\n",
    "for out in outs:\n",
    "    print(get_outfile(out))"
   ]
  },
  {
   "cell_type": "code",
   "execution_count": 115,
   "metadata": {
    "collapsed": false
   },
   "outputs": [
    {
     "data": {
      "text/plain": [
       "'data/seismic_data.sgy'"
      ]
     },
     "execution_count": 115,
     "metadata": {},
     "output_type": "execute_result"
    }
   ],
   "source": [
    "target\n"
   ]
  },
  {
   "cell_type": "code",
   "execution_count": 99,
   "metadata": {
    "collapsed": false
   },
   "outputs": [],
   "source": [
    "dirname, fname, ext = path_bits(p)"
   ]
  },
  {
   "cell_type": "code",
   "execution_count": 100,
   "metadata": {
    "collapsed": false
   },
   "outputs": [
    {
     "data": {
      "text/plain": [
       "('/this/that', 'other_file', '.txt')"
      ]
     },
     "execution_count": 100,
     "metadata": {},
     "output_type": "execute_result"
    }
   ],
   "source": [
    "path_bits(p)"
   ]
  },
  {
   "cell_type": "code",
   "execution_count": 97,
   "metadata": {
    "collapsed": false
   },
   "outputs": [
    {
     "data": {
      "text/plain": [
       "('/this/that', 'other_file.txt')"
      ]
     },
     "execution_count": 97,
     "metadata": {},
     "output_type": "execute_result"
    }
   ],
   "source": [
    "os.path.split(p)"
   ]
  },
  {
   "cell_type": "code",
   "execution_count": null,
   "metadata": {
    "collapsed": true
   },
   "outputs": [],
   "source": []
  },
  {
   "cell_type": "markdown",
   "metadata": {},
   "source": [
    "There's already a small 3D in the `data` directory..."
   ]
  },
  {
   "cell_type": "code",
   "execution_count": 2,
   "metadata": {
    "collapsed": false
   },
   "outputs": [
    {
     "name": "stdout",
     "output_type": "stream",
     "text": [
      "31_81_PR.png       31_81_PR.sgy       F3_very_small.png  F3_very_small.sgy\r\n"
     ]
    }
   ],
   "source": [
    "ls ../data"
   ]
  },
  {
   "cell_type": "code",
   "execution_count": 8,
   "metadata": {
    "collapsed": false
   },
   "outputs": [
    {
     "data": {
      "text/plain": [
       "(1501, 534)"
      ]
     },
     "execution_count": 8,
     "metadata": {},
     "output_type": "execute_result"
    }
   ],
   "source": [
    "from obspy.io.segy.segy import _read_segy\n",
    "#section = _read_segy('../data/F3_very_small.sgy', unpack_headers=True)\n",
    "section = _read_segy('../data/31_81_PR.sgy', unpack_headers=True)\n",
    "data = np.stack(t.data for t in section.traces).T\n",
    "data.shape"
   ]
  },
  {
   "cell_type": "code",
   "execution_count": 10,
   "metadata": {
    "collapsed": false
   },
   "outputs": [],
   "source": [
    "#cube = np.reshape(data.T, (11, 11, 463))"
   ]
  },
  {
   "cell_type": "code",
   "execution_count": 12,
   "metadata": {
    "collapsed": false
   },
   "outputs": [
    {
     "data": {
      "text/plain": [
       "Binary File Header:\n",
       "\tjob_identification_number: 68102153\n",
       "\tline_number: 31\n",
       "\treel_number: 68102133\n",
       "\tnumber_of_data_traces_per_ensemble: 1\n",
       "\tnumber_of_auxiliary_traces_per_ensemble: 0\n",
       "\tsample_interval_in_microseconds: 4000\n",
       "\tsample_interval_in_microseconds_of_original_field_recording: 0\n",
       "\tnumber_of_samples_per_data_trace: 1501\n",
       "\tnumber_of_samples_per_data_trace_for_original_field_recording: 0\n",
       "\tdata_sample_format_code: 1\n",
       "\tensemble_fold: 1\n",
       "\ttrace_sorting_code: 4\n",
       "\tvertical_sum_code: 1\n",
       "\tsweep_frequency_at_start: 0\n",
       "\tsweep_frequency_at_end: 0\n",
       "\tsweep_length: 0\n",
       "\tsweep_type_code: 0\n",
       "\ttrace_number_of_sweep_channel: 0\n",
       "\tsweep_trace_taper_length_in_ms_at_start: 0\n",
       "\tsweep_trace_taper_length_in_ms_at_end: 0\n",
       "\ttaper_type: 0\n",
       "\tcorrelated_data_traces: 0\n",
       "\tbinary_gain_recovered: 1\n",
       "\tamplitude_recovery_method: 4\n",
       "\tmeasurement_system: 0\n",
       "\timpulse_signal_polarity: 0\n",
       "\tvibratory_polarity_code: 0\n",
       "\tunassigned_1: b'\\x00\\x00\\x00\\x0c\\x00\\x01\\x00\\x00\\x17p\\x00\\x01\\x00\\x01\\x00\\x04\\x89\\x00\\x01\\x00\\x00\\x00\\x00\\x9b\\x00\\x02\\x00\\x9f\\x00\\x02\\x00\\x01\\x00\\x00\\x00\\x01\\x00\\x00\\x00\\x00\\x00\\x00\\x00\\x00\\x00\\x00\\x00\\x00\\x00\\x00\\x00\\x00\\x00\\x00\\x00\\x00\\x00\\x00\\x00\\x00\\x00\\x00\\x00\\x00\\x00\\x00\\x00\\x00\\x00\\x00\\x00\\x00\\x00\\x00\\x00\\x00\\x00\\x00\\x00\\x00\\x00\\x00\\x00\\x00\\x00\\x00\\x00\\x00\\x00\\x00\\x00\\x00\\x00\\x00\\x00\\x00\\x00\\x00\\x00\\x00\\x00\\x00\\x00\\x00\\x00\\x00\\x00\\x00\\x00\\x00\\x00\\x00\\x00\\x00\\x00\\x00\\x00\\x00\\x00\\x00\\x00\\x00\\x00\\x00\\x00\\x00\\x00\\x00\\x00\\x00\\x00\\x00\\x00\\x00\\x00\\x00\\x00\\x00\\x00\\x00\\x00\\x00\\x00\\x00\\x00\\x00\\x00\\x00\\x00\\x00\\x00\\x00\\x00\\x00\\x00\\x00\\x00\\x00\\x00\\x00\\x00\\x00\\x00\\x00\\x00\\x00\\x00\\x00\\x00\\x00\\x00\\x00\\x00\\x00\\x00\\x00\\x00\\x00\\x00\\x00\\x00\\x00\\x00\\x00\\x00\\x00\\x00\\x00\\x00\\x00\\x00\\x00\\x00\\x00\\x00\\x00\\x00\\x00\\x00\\x00\\x00\\x00\\x00\\x00\\x00\\x00\\x00\\x00\\x00\\x00\\x00\\x00\\x00\\x00\\x00\\x00\\x00\\x00\\x00\\x00\\x00\\x00\\x00\\x00\\x00\\x00\\x00\\x00\\x00\\x00\\x00\\x00\\x00\\x00\\x00\\x00\\x00\\x00\\x00\\x00'\n",
       "\tseg_y_format_revision_number: 0\n",
       "\tfixed_length_trace_flag: 0\n",
       "\tnumber_of_3200_byte_ext_file_header_records_following: 0\n",
       "\tunassigned_2: b'\\x00\\x00\\x00\\x00\\x00\\x00\\x00\\x00\\x00\\x00\\x00\\x00\\x00\\x00\\x00\\x00\\x00\\x00\\x00\\x00\\x00\\x00\\x00\\x00\\x00\\x00\\x00\\x00\\x00\\x00\\x00\\x00\\x00\\x00\\x00\\x00\\x00\\x00\\x00\\x00\\x00\\x00\\x00\\x00\\x00\\x00\\x00\\x00\\x00\\x00\\x00\\x00\\x00\\x00\\x00\\x00\\x00\\x00\\x00\\x00\\x00\\x00\\x00\\x00\\x00\\x00\\x00\\x00\\x00\\x00\\x00\\x00\\x00\\x00\\x00\\x00\\x00\\x00\\x00\\x00\\x00\\x00\\x00\\x00\\x00\\x00\\x00\\x00\\x00\\x00\\x00\\x00\\x00\\x00'"
      ]
     },
     "execution_count": 12,
     "metadata": {},
     "output_type": "execute_result"
    }
   ],
   "source": [
    "section.binary_file_header"
   ]
  },
  {
   "cell_type": "code",
   "execution_count": 13,
   "metadata": {
    "collapsed": false
   },
   "outputs": [
    {
     "data": {
      "text/plain": [
       "trace_sequence_number_within_line: 534\n",
       "trace_sequence_number_within_segy_file: 534\n",
       "original_field_record_number: 167\n",
       "trace_number_within_the_original_field_record: 0\n",
       "energy_source_point_number: 0\n",
       "ensemble_number: 634\n",
       "trace_number_within_the_ensemble: 1\n",
       "trace_identification_code: 1\n",
       "number_of_vertically_summed_traces_yielding_this_trace: 1\n",
       "number_of_horizontally_stacked_traces_yielding_this_trace: 1\n",
       "data_use: 1\n",
       "distance_from_center_of_the_source_point_to_the_center_of_the_receiver_group: 0\n",
       "receiver_group_elevation: 0\n",
       "surface_elevation_at_source: 0\n",
       "source_depth_below_surface: 0\n",
       "datum_elevation_at_receiver_group: 0\n",
       "datum_elevation_at_source: 0\n",
       "water_depth_at_source: 0\n",
       "water_depth_at_group: 0\n",
       "scalar_to_be_applied_to_all_elevations_and_depths: 0\n",
       "scalar_to_be_applied_to_all_coordinates: 1\n",
       "source_coordinate_x: 0\n",
       "source_coordinate_y: 0\n",
       "group_coordinate_x: 0\n",
       "group_coordinate_y: 0\n",
       "coordinate_units: 0\n",
       "weathering_velocity: 0\n",
       "subweathering_velocity: 0\n",
       "uphole_time_at_source_in_ms: 0\n",
       "uphole_time_at_group_in_ms: 0\n",
       "source_static_correction_in_ms: 0\n",
       "group_static_correction_in_ms: 0\n",
       "total_static_applied_in_ms: 0\n",
       "lag_time_A: 0\n",
       "lag_time_B: 0\n",
       "delay_recording_time: 0\n",
       "mute_time_start_time_in_ms: 0\n",
       "mute_time_end_time_in_ms: 0\n",
       "number_of_samples_in_this_trace: 1501\n",
       "sample_interval_in_ms_for_this_trace: 4000\n",
       "gain_type_of_field_instruments: 0\n",
       "instrument_gain_constant: 0\n",
       "instrument_early_or_initial_gain: 0\n",
       "correlated: 0\n",
       "sweep_frequency_at_start: 0\n",
       "sweep_frequency_at_end: 0\n",
       "sweep_length_in_ms: 0\n",
       "sweep_type: 0\n",
       "sweep_trace_taper_length_at_start_in_ms: 0\n",
       "sweep_trace_taper_length_at_end_in_ms: 0\n",
       "taper_type: 0\n",
       "alias_filter_frequency: 0\n",
       "alias_filter_slope: 0\n",
       "notch_filter_frequency: 0\n",
       "notch_filter_slope: 0\n",
       "low_cut_frequency: 0\n",
       "high_cut_frequency: 0\n",
       "low_cut_slope: 0\n",
       "high_cut_slope: 0\n",
       "year_data_recorded: 0\n",
       "day_of_year: 0\n",
       "hour_of_day: 0\n",
       "minute_of_hour: 0\n",
       "second_of_minute: 0\n",
       "time_basis_code: 1\n",
       "trace_weighting_factor: 10\n",
       "geophone_group_number_of_roll_switch_position_one: 0\n",
       "geophone_group_number_of_trace_number_one: 0\n",
       "geophone_group_number_of_last_trace: 0\n",
       "gap_size: 0\n",
       "over_travel_associated_with_taper: 0\n",
       "x_coordinate_of_ensemble_position_of_this_trace: 6000\n",
       "y_coordinate_of_ensemble_position_of_this_trace: 65536\n",
       "for_3d_poststack_data_this_field_is_for_in_line_number: 0\n",
       "for_3d_poststack_data_this_field_is_for_cross_line_number: 0\n",
       "shotpoint_number: 0\n",
       "scalar_to_be_applied_to_the_shotpoint_number: 0\n",
       "trace_value_measurement_unit: 29\n",
       "transduction_constant_mantissa: 10000\n",
       "transduction_constant_exponent: 0\n",
       "transduction_units: 0\n",
       "device_trace_identifier: 0\n",
       "scalar_to_be_applied_to_times: 0\n",
       "source_type_orientation: 0\n",
       "source_energy_direction_mantissa: 0\n",
       "source_energy_direction_exponent: 0\n",
       "source_measurement_mantissa: 0\n",
       "source_measurement_exponent: 0\n",
       "source_measurement_unit: 0\n"
      ]
     },
     "execution_count": 13,
     "metadata": {},
     "output_type": "execute_result"
    }
   ],
   "source": [
    "section.traces[-1].header"
   ]
  },
  {
   "cell_type": "code",
   "execution_count": null,
   "metadata": {
    "collapsed": true
   },
   "outputs": [],
   "source": []
  },
  {
   "cell_type": "code",
   "execution_count": null,
   "metadata": {
    "collapsed": true
   },
   "outputs": [],
   "source": []
  },
  {
   "cell_type": "code",
   "execution_count": null,
   "metadata": {
    "collapsed": true
   },
   "outputs": [],
   "source": []
  },
  {
   "cell_type": "code",
   "execution_count": 7,
   "metadata": {
    "collapsed": false
   },
   "outputs": [
    {
     "data": {
      "image/png": "[encoded data removed]",
      "text/plain": [
       "<matplotlib.figure.Figure at 0x1186b1860>"
      ]
     },
     "metadata": {},
     "output_type": "display_data"
    }
   ],
   "source": [
    "plt.imshow(cube[:,:,200], interpolation='none', cmap=\"gray\", vmin=-9000, vmax=9000)\n",
    "plt.colorbar()\n",
    "plt.show()"
   ]
  },
  {
   "cell_type": "code",
   "execution_count": 7,
   "metadata": {
    "collapsed": true
   },
   "outputs": [],
   "source": [
    "d = np.hstack([0*cube, cube, 0*cube])"
   ]
  },
  {
   "cell_type": "code",
   "execution_count": 8,
   "metadata": {
    "collapsed": false
   },
   "outputs": [],
   "source": [
    "cube = np.vstack([0*d, d, 0*d])"
   ]
  },
  {
   "cell_type": "code",
   "execution_count": 9,
   "metadata": {
    "collapsed": false
   },
   "outputs": [
    {
     "data": {
      "image/png": "[encoded data removed]",
      "text/plain": [
       "<matplotlib.figure.Figure at 0x7fc0a0dcca90>"
      ]
     },
     "metadata": {},
     "output_type": "display_data"
    }
   ],
   "source": [
    "plt.imshow(cube[:,:,200], interpolation='none', cmap=\"gray\", vmin=-9000, vmax=9000)\n",
    "plt.colorbar()\n",
    "plt.show()"
   ]
  },
  {
   "cell_type": "markdown",
   "metadata": {},
   "source": [
    "## Condition the data"
   ]
  },
  {
   "cell_type": "markdown",
   "metadata": {},
   "source": [
    "First we need to make a binary volume, with 1 where there's live data, 0 where there's only null traces. \n",
    "\n",
    "We can do stuff trace by trace and avoid affecting the null data."
   ]
  },
  {
   "cell_type": "code",
   "execution_count": 45,
   "metadata": {
    "collapsed": false
   },
   "outputs": [],
   "source": [
    "all_positive = np.abs(cube)\n",
    "\n",
    "# Make sure we add enough to ensure a positive number.\n",
    "all_gt_zero = all_positive[...,:-2] + all_positive[...,1:-1] + all_positive[...,1:-1] + all_positive[...,2:]\n",
    "\n",
    "flag = np.digitize(all_gt_zero, [0], right=True)"
   ]
  },
  {
   "cell_type": "code",
   "execution_count": 46,
   "metadata": {
    "collapsed": false
   },
   "outputs": [
    {
     "data": {
      "image/png": "[encoded data removed]",
      "text/plain": [
       "<matplotlib.figure.Figure at 0x10ff832e8>"
      ]
     },
     "metadata": {},
     "output_type": "display_data"
    }
   ],
   "source": [
    "plt.imshow(flag[:,:,200], interpolation='none', cmap=\"gray\")\n",
    "plt.colorbar()\n",
    "plt.show()"
   ]
  },
  {
   "cell_type": "code",
   "execution_count": 47,
   "metadata": {
    "collapsed": false
   },
   "outputs": [],
   "source": [
    "tslice = flag[:, :, flag.shape[-1]//2]"
   ]
  },
  {
   "cell_type": "code",
   "execution_count": 48,
   "metadata": {
    "collapsed": false
   },
   "outputs": [
    {
     "data": {
      "text/plain": [
       "(33, 33)"
      ]
     },
     "execution_count": 48,
     "metadata": {},
     "output_type": "execute_result"
    }
   ],
   "source": [
    "tslice.shape"
   ]
  },
  {
   "cell_type": "markdown",
   "metadata": {},
   "source": [
    "## Contours on image"
   ]
  },
  {
   "cell_type": "markdown",
   "metadata": {},
   "source": [
    "First, we can make a more complex geometry to test convex hull stuff."
   ]
  },
  {
   "cell_type": "code",
   "execution_count": 50,
   "metadata": {
    "collapsed": true
   },
   "outputs": [],
   "source": [
    "tslice[6:27, 6:27] = 1\n",
    "tslice[8:13, 10:12] = 0\n",
    "tslice[14:21, 18:27] = 0\n",
    "#tslice[14:21, 18:27] = 0"
   ]
  },
  {
   "cell_type": "code",
   "execution_count": 53,
   "metadata": {
    "collapsed": false
   },
   "outputs": [
    {
     "data": {
      "image/png": "[encoded data removed]",
      "text/plain": [
       "<matplotlib.figure.Figure at 0x1163cd5c0>"
      ]
     },
     "metadata": {},
     "output_type": "display_data"
    }
   ],
   "source": [
    "plt.imshow(tslice, interpolation='none', cmap=\"gray\")\n",
    "plt.colorbar()\n",
    "plt.show()"
   ]
  },
  {
   "cell_type": "code",
   "execution_count": 54,
   "metadata": {
    "collapsed": false
   },
   "outputs": [
    {
     "data": {
      "image/png": "[encoded data removed]",
      "text/plain": [
       "<matplotlib.figure.Figure at 0x112b8b9b0>"
      ]
     },
     "metadata": {},
     "output_type": "display_data"
    }
   ],
   "source": [
    "from skimage import measure\n",
    "\n",
    "# Find contours at a constant value of 0\n",
    "contours = measure.find_contours(tslice, 0)\n",
    "\n",
    "# Display the image and plot all contours found\n",
    "plt.imshow(tslice, interpolation='none', cmap='gray')\n",
    "\n",
    "for n, contour in enumerate(contours):\n",
    "    plt.plot(contour[:, 1], contour[:, 0], linewidth=2, c='r')\n",
    "\n",
    "plt.show()"
   ]
  },
  {
   "cell_type": "code",
   "execution_count": 86,
   "metadata": {
    "collapsed": false
   },
   "outputs": [],
   "source": [
    "from shapely.geometry import Polygon, MultiPolygon\n",
    "\n",
    "mpoly = MultiPolygon([Polygon(measure.approximate_polygon(c, 0.01)) for c in contours])"
   ]
  },
  {
   "cell_type": "code",
   "execution_count": 89,
   "metadata": {
    "collapsed": false
   },
   "outputs": [
    {
     "data": {
      "image/png": "[encoded data removed]",
      "text/plain": [
       "<matplotlib.figure.Figure at 0x116385630>"
      ]
     },
     "metadata": {},
     "output_type": "display_data"
    }
   ],
   "source": [
    "from descartes import PolygonPatch\n",
    "\n",
    "# Compute all points coordinates for the plot.\n",
    "all_points = np.array(list(zip(*np.where(tslice < 2))))\n",
    "\n",
    "# Make the plot.\n",
    "fig = plt.figure(figsize=(10,5))\n",
    "ax = fig.add_subplot(111)\n",
    "ax.scatter(all_points[:,0], all_points[:,1], )\n",
    "ax.scatter(points[:,0], points[:,1], color='r')\n",
    "\n",
    "# Make and add the polygon patch.\n",
    "for p in mpoly:\n",
    "    patch = PolygonPatch(p, alpha=0.3)\n",
    "    ax.add_patch(patch)\n",
    "\n",
    "plt.show()"
   ]
  },
  {
   "cell_type": "markdown",
   "metadata": {},
   "source": [
    "To make a 'hole', you'd have to use the `symmetric_difference` method:"
   ]
  },
  {
   "cell_type": "code",
   "execution_count": 94,
   "metadata": {
    "collapsed": true
   },
   "outputs": [],
   "source": [
    "# Let's erode the outer and dilate the inner while we're about it...\n",
    "newpoly = mpoly[0].buffer(-0.5).symmetric_difference(mpoly[1].buffer(0.5))"
   ]
  },
  {
   "cell_type": "code",
   "execution_count": 95,
   "metadata": {
    "collapsed": false
   },
   "outputs": [
    {
     "data": {
      "image/png": "[encoded data removed]",
      "text/plain": [
       "<matplotlib.figure.Figure at 0x1170ba710>"
      ]
     },
     "metadata": {},
     "output_type": "display_data"
    }
   ],
   "source": [
    "from descartes import PolygonPatch\n",
    "\n",
    "fig = plt.figure(figsize=(10,5))\n",
    "ax = fig.add_subplot(111)\n",
    "ax.scatter(all_points[:,0], all_points[:,1], )\n",
    "ax.scatter(points[:,0], points[:,1], color='r')\n",
    "\n",
    "patch = PolygonPatch(newpoly, alpha=0.3)\n",
    "ax.add_patch(patch)\n",
    "\n",
    "plt.show()"
   ]
  },
  {
   "cell_type": "markdown",
   "metadata": {},
   "source": [
    "## `shapely` convex hull"
   ]
  },
  {
   "cell_type": "code",
   "execution_count": 55,
   "metadata": {
    "collapsed": false
   },
   "outputs": [],
   "source": [
    "from shapely.geometry import MultiPoint"
   ]
  },
  {
   "cell_type": "code",
   "execution_count": 56,
   "metadata": {
    "collapsed": false
   },
   "outputs": [],
   "source": [
    "points = np.array(list(zip(*np.where(tslice == 1))))"
   ]
  },
  {
   "cell_type": "code",
   "execution_count": 57,
   "metadata": {
    "collapsed": false
   },
   "outputs": [],
   "source": [
    "mp = MultiPoint(points)"
   ]
  },
  {
   "cell_type": "code",
   "execution_count": 58,
   "metadata": {
    "collapsed": true
   },
   "outputs": [],
   "source": [
    "hull = mp.convex_hull\n",
    "\n",
    "# Optionally buffer the polygon.\n",
    "hull = hull.buffer(0.5)"
   ]
  },
  {
   "cell_type": "code",
   "execution_count": 71,
   "metadata": {
    "collapsed": false
   },
   "outputs": [
    {
     "data": {
      "image/png": "[encoded data removed]",
      "text/plain": [
       "<matplotlib.figure.Figure at 0x112d50588>"
      ]
     },
     "metadata": {},
     "output_type": "display_data"
    }
   ],
   "source": [
    "from descartes import PolygonPatch\n",
    "\n",
    "# Compute all points coordinates for the plot.\n",
    "all_points = np.array(list(zip(*np.where(tslice < 2))))\n",
    "\n",
    "# Make the plot.\n",
    "fig = plt.figure(figsize=(10,5))\n",
    "ax = fig.add_subplot(111)\n",
    "ax.scatter(all_points[:,0], all_points[:,1], )\n",
    "ax.scatter(points[:,0], points[:,1], color='r')\n",
    "\n",
    "# Make and add the polygon patch.\n",
    "patch = PolygonPatch(hull, alpha=0.3)\n",
    "ax.add_patch(patch)\n",
    "\n",
    "plt.show()"
   ]
  },
  {
   "cell_type": "code",
   "execution_count": null,
   "metadata": {
    "collapsed": true
   },
   "outputs": [],
   "source": []
  },
  {
   "cell_type": "code",
   "execution_count": null,
   "metadata": {
    "collapsed": true
   },
   "outputs": [],
   "source": []
  }
 ],
 "metadata": {
  "anaconda-cloud": {},
  "kernelspec": {
   "display_name": "Python [conda env:python3]",
   "language": "python",
   "name": "conda-env-python3-py"
  },
  "language_info": {
   "codemirror_mode": {
    "name": "ipython",
    "version": 3
   },
   "file_extension": ".py",
   "mimetype": "text/x-python",
   "name": "python",
   "nbconvert_exporter": "python",
   "pygments_lexer": "ipython3",
   "version": "3.5.2"
  }
 },
 "nbformat": 4,
 "nbformat_minor": 0
}
